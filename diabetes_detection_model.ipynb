{
  "nbformat": 4,
  "nbformat_minor": 0,
  "metadata": {
    "colab": {
      "name": "diabetes_detection_model.ipynb",
      "provenance": [],
      "collapsed_sections": [],
      "mount_file_id": "1incjRsWJQfcXb5pq6S83g6iZRywbNRzg",
      "authorship_tag": "ABX9TyNI+kXnQViy/1eX+By7Ll3s",
      "include_colab_link": true
    },
    "kernelspec": {
      "name": "python3",
      "display_name": "Python 3"
    },
    "language_info": {
      "name": "python"
    }
  },
  "cells": [
    {
      "cell_type": "markdown",
      "metadata": {
        "id": "view-in-github",
        "colab_type": "text"
      },
      "source": [
        "<a href=\"https://colab.research.google.com/github/bhavepurva/Diabetes-detection/blob/main/diabetes_detection_model.ipynb\" target=\"_parent\"><img src=\"https://colab.research.google.com/assets/colab-badge.svg\" alt=\"Open In Colab\"/></a>"
      ]
    },
    {
      "cell_type": "code",
      "metadata": {
        "colab": {
          "base_uri": "https://localhost:8080/"
        },
        "id": "dLHj6VXeFWr1",
        "outputId": "1c44e07b-5d14-435b-e094-0063a5d15803"
      },
      "source": [
        "#add zipped file to your drive, this code unzips the file in tmp directory\n",
        "!unzip /content/drive/MyDrive/diab.zip -d /tmp/\n"
      ],
      "execution_count": null,
      "outputs": [
        {
          "output_type": "stream",
          "text": [
            "Archive:  /content/drive/MyDrive/diab.zip\n",
            "  inflating: /tmp/diabetes.csv       \n"
          ],
          "name": "stdout"
        }
      ]
    },
    {
      "cell_type": "code",
      "metadata": {
        "id": "ggF4_C7H8VhX"
      },
      "source": [
        "batch_size=25\n",
        "epochs=500\n",
        "shuffle=True\n",
        "size_of_test_set=0.2\n",
        "lr=0.001\n",
        "classification_threshold=0.35\n",
        "momentum_val=0.8\n",
        "dropout_val=0.2"
      ],
      "execution_count": null,
      "outputs": []
    },
    {
      "cell_type": "code",
      "metadata": {
        "id": "W68dUZtOFfPH"
      },
      "source": [
        "import pandas as pd\n",
        "import numpy as np\n",
        "import tensorflow as tf\n",
        "from tensorflow import keras\n",
        "from sklearn.model_selection import train_test_split\n",
        "from sklearn.impute import SimpleImputer\n",
        "from sklearn.preprocessing import MinMaxScaler\n",
        "import matplotlib.pyplot as plt\n",
        "from sklearn.linear_model import SGDClassifier\n",
        "from sklearn.neighbors import KNeighborsClassifier\n",
        "from sklearn.model_selection import cross_val_score, cross_val_predict\n",
        "from sklearn.metrics import confusion_matrix,precision_score, recall_score,roc_auc_score, accuracy_score"
      ],
      "execution_count": null,
      "outputs": []
    },
    {
      "cell_type": "code",
      "metadata": {
        "colab": {
          "base_uri": "https://localhost:8080/",
          "height": 569
        },
        "id": "yhxu9pnTFiQx",
        "outputId": "a1893f82-8a80-4e30-921f-bbc121df0ecf"
      },
      "source": [
        "#getting the data\n",
        "data=pd.read_csv(\"/tmp/diabetes.csv\")\n",
        "\n",
        "#first five entries in dataframe\n",
        "data.head()\n",
        "\n",
        "#information about data such as null values and statistical data\n",
        "data.info()\n",
        "data.describe()"
      ],
      "execution_count": null,
      "outputs": [
        {
          "output_type": "stream",
          "text": [
            "<class 'pandas.core.frame.DataFrame'>\n",
            "RangeIndex: 768 entries, 0 to 767\n",
            "Data columns (total 9 columns):\n",
            " #   Column                    Non-Null Count  Dtype  \n",
            "---  ------                    --------------  -----  \n",
            " 0   Pregnancies               768 non-null    int64  \n",
            " 1   Glucose                   768 non-null    int64  \n",
            " 2   BloodPressure             768 non-null    int64  \n",
            " 3   SkinThickness             768 non-null    int64  \n",
            " 4   Insulin                   768 non-null    int64  \n",
            " 5   BMI                       768 non-null    float64\n",
            " 6   DiabetesPedigreeFunction  768 non-null    float64\n",
            " 7   Age                       768 non-null    int64  \n",
            " 8   Outcome                   768 non-null    int64  \n",
            "dtypes: float64(2), int64(7)\n",
            "memory usage: 54.1 KB\n"
          ],
          "name": "stdout"
        },
        {
          "output_type": "execute_result",
          "data": {
            "text/html": [
              "<div>\n",
              "<style scoped>\n",
              "    .dataframe tbody tr th:only-of-type {\n",
              "        vertical-align: middle;\n",
              "    }\n",
              "\n",
              "    .dataframe tbody tr th {\n",
              "        vertical-align: top;\n",
              "    }\n",
              "\n",
              "    .dataframe thead th {\n",
              "        text-align: right;\n",
              "    }\n",
              "</style>\n",
              "<table border=\"1\" class=\"dataframe\">\n",
              "  <thead>\n",
              "    <tr style=\"text-align: right;\">\n",
              "      <th></th>\n",
              "      <th>Pregnancies</th>\n",
              "      <th>Glucose</th>\n",
              "      <th>BloodPressure</th>\n",
              "      <th>SkinThickness</th>\n",
              "      <th>Insulin</th>\n",
              "      <th>BMI</th>\n",
              "      <th>DiabetesPedigreeFunction</th>\n",
              "      <th>Age</th>\n",
              "      <th>Outcome</th>\n",
              "    </tr>\n",
              "  </thead>\n",
              "  <tbody>\n",
              "    <tr>\n",
              "      <th>count</th>\n",
              "      <td>768.000000</td>\n",
              "      <td>768.000000</td>\n",
              "      <td>768.000000</td>\n",
              "      <td>768.000000</td>\n",
              "      <td>768.000000</td>\n",
              "      <td>768.000000</td>\n",
              "      <td>768.000000</td>\n",
              "      <td>768.000000</td>\n",
              "      <td>768.000000</td>\n",
              "    </tr>\n",
              "    <tr>\n",
              "      <th>mean</th>\n",
              "      <td>3.845052</td>\n",
              "      <td>120.894531</td>\n",
              "      <td>69.105469</td>\n",
              "      <td>20.536458</td>\n",
              "      <td>79.799479</td>\n",
              "      <td>31.992578</td>\n",
              "      <td>0.471876</td>\n",
              "      <td>33.240885</td>\n",
              "      <td>0.348958</td>\n",
              "    </tr>\n",
              "    <tr>\n",
              "      <th>std</th>\n",
              "      <td>3.369578</td>\n",
              "      <td>31.972618</td>\n",
              "      <td>19.355807</td>\n",
              "      <td>15.952218</td>\n",
              "      <td>115.244002</td>\n",
              "      <td>7.884160</td>\n",
              "      <td>0.331329</td>\n",
              "      <td>11.760232</td>\n",
              "      <td>0.476951</td>\n",
              "    </tr>\n",
              "    <tr>\n",
              "      <th>min</th>\n",
              "      <td>0.000000</td>\n",
              "      <td>0.000000</td>\n",
              "      <td>0.000000</td>\n",
              "      <td>0.000000</td>\n",
              "      <td>0.000000</td>\n",
              "      <td>0.000000</td>\n",
              "      <td>0.078000</td>\n",
              "      <td>21.000000</td>\n",
              "      <td>0.000000</td>\n",
              "    </tr>\n",
              "    <tr>\n",
              "      <th>25%</th>\n",
              "      <td>1.000000</td>\n",
              "      <td>99.000000</td>\n",
              "      <td>62.000000</td>\n",
              "      <td>0.000000</td>\n",
              "      <td>0.000000</td>\n",
              "      <td>27.300000</td>\n",
              "      <td>0.243750</td>\n",
              "      <td>24.000000</td>\n",
              "      <td>0.000000</td>\n",
              "    </tr>\n",
              "    <tr>\n",
              "      <th>50%</th>\n",
              "      <td>3.000000</td>\n",
              "      <td>117.000000</td>\n",
              "      <td>72.000000</td>\n",
              "      <td>23.000000</td>\n",
              "      <td>30.500000</td>\n",
              "      <td>32.000000</td>\n",
              "      <td>0.372500</td>\n",
              "      <td>29.000000</td>\n",
              "      <td>0.000000</td>\n",
              "    </tr>\n",
              "    <tr>\n",
              "      <th>75%</th>\n",
              "      <td>6.000000</td>\n",
              "      <td>140.250000</td>\n",
              "      <td>80.000000</td>\n",
              "      <td>32.000000</td>\n",
              "      <td>127.250000</td>\n",
              "      <td>36.600000</td>\n",
              "      <td>0.626250</td>\n",
              "      <td>41.000000</td>\n",
              "      <td>1.000000</td>\n",
              "    </tr>\n",
              "    <tr>\n",
              "      <th>max</th>\n",
              "      <td>17.000000</td>\n",
              "      <td>199.000000</td>\n",
              "      <td>122.000000</td>\n",
              "      <td>99.000000</td>\n",
              "      <td>846.000000</td>\n",
              "      <td>67.100000</td>\n",
              "      <td>2.420000</td>\n",
              "      <td>81.000000</td>\n",
              "      <td>1.000000</td>\n",
              "    </tr>\n",
              "  </tbody>\n",
              "</table>\n",
              "</div>"
            ],
            "text/plain": [
              "       Pregnancies     Glucose  ...         Age     Outcome\n",
              "count   768.000000  768.000000  ...  768.000000  768.000000\n",
              "mean      3.845052  120.894531  ...   33.240885    0.348958\n",
              "std       3.369578   31.972618  ...   11.760232    0.476951\n",
              "min       0.000000    0.000000  ...   21.000000    0.000000\n",
              "25%       1.000000   99.000000  ...   24.000000    0.000000\n",
              "50%       3.000000  117.000000  ...   29.000000    0.000000\n",
              "75%       6.000000  140.250000  ...   41.000000    1.000000\n",
              "max      17.000000  199.000000  ...   81.000000    1.000000\n",
              "\n",
              "[8 rows x 9 columns]"
            ]
          },
          "metadata": {
            "tags": []
          },
          "execution_count": 5
        }
      ]
    },
    {
      "cell_type": "code",
      "metadata": {
        "colab": {
          "base_uri": "https://localhost:8080/",
          "height": 518
        },
        "id": "yuTvIAwCF55r",
        "outputId": "b36867b2-7c52-4106-9f63-885b934ae4a5"
      },
      "source": [
        "#features and labels\n",
        "y=data[\"Outcome\"]\n",
        "x=data.drop(\"Outcome\",axis=1)\n",
        "\n",
        "#determine null values or missing values\n",
        "age=x[\"Age\"]\n",
        "preg=x[\"Pregnancies\"]\n",
        "x=x[[\"Glucose\",\"BloodPressure\",\"SkinThickness\",\"Insulin\",\"BMI\",\"DiabetesPedigreeFunction\"]].replace(0,np.nan)\n",
        "\n",
        "x.head()\n",
        "x.info()\n",
        "x.describe()\n"
      ],
      "execution_count": null,
      "outputs": [
        {
          "output_type": "stream",
          "text": [
            "<class 'pandas.core.frame.DataFrame'>\n",
            "RangeIndex: 768 entries, 0 to 767\n",
            "Data columns (total 6 columns):\n",
            " #   Column                    Non-Null Count  Dtype  \n",
            "---  ------                    --------------  -----  \n",
            " 0   Glucose                   763 non-null    float64\n",
            " 1   BloodPressure             733 non-null    float64\n",
            " 2   SkinThickness             541 non-null    float64\n",
            " 3   Insulin                   394 non-null    float64\n",
            " 4   BMI                       757 non-null    float64\n",
            " 5   DiabetesPedigreeFunction  768 non-null    float64\n",
            "dtypes: float64(6)\n",
            "memory usage: 36.1 KB\n"
          ],
          "name": "stdout"
        },
        {
          "output_type": "execute_result",
          "data": {
            "text/html": [
              "<div>\n",
              "<style scoped>\n",
              "    .dataframe tbody tr th:only-of-type {\n",
              "        vertical-align: middle;\n",
              "    }\n",
              "\n",
              "    .dataframe tbody tr th {\n",
              "        vertical-align: top;\n",
              "    }\n",
              "\n",
              "    .dataframe thead th {\n",
              "        text-align: right;\n",
              "    }\n",
              "</style>\n",
              "<table border=\"1\" class=\"dataframe\">\n",
              "  <thead>\n",
              "    <tr style=\"text-align: right;\">\n",
              "      <th></th>\n",
              "      <th>Glucose</th>\n",
              "      <th>BloodPressure</th>\n",
              "      <th>SkinThickness</th>\n",
              "      <th>Insulin</th>\n",
              "      <th>BMI</th>\n",
              "      <th>DiabetesPedigreeFunction</th>\n",
              "    </tr>\n",
              "  </thead>\n",
              "  <tbody>\n",
              "    <tr>\n",
              "      <th>count</th>\n",
              "      <td>763.000000</td>\n",
              "      <td>733.000000</td>\n",
              "      <td>541.000000</td>\n",
              "      <td>394.000000</td>\n",
              "      <td>757.000000</td>\n",
              "      <td>768.000000</td>\n",
              "    </tr>\n",
              "    <tr>\n",
              "      <th>mean</th>\n",
              "      <td>121.686763</td>\n",
              "      <td>72.405184</td>\n",
              "      <td>29.153420</td>\n",
              "      <td>155.548223</td>\n",
              "      <td>32.457464</td>\n",
              "      <td>0.471876</td>\n",
              "    </tr>\n",
              "    <tr>\n",
              "      <th>std</th>\n",
              "      <td>30.535641</td>\n",
              "      <td>12.382158</td>\n",
              "      <td>10.476982</td>\n",
              "      <td>118.775855</td>\n",
              "      <td>6.924988</td>\n",
              "      <td>0.331329</td>\n",
              "    </tr>\n",
              "    <tr>\n",
              "      <th>min</th>\n",
              "      <td>44.000000</td>\n",
              "      <td>24.000000</td>\n",
              "      <td>7.000000</td>\n",
              "      <td>14.000000</td>\n",
              "      <td>18.200000</td>\n",
              "      <td>0.078000</td>\n",
              "    </tr>\n",
              "    <tr>\n",
              "      <th>25%</th>\n",
              "      <td>99.000000</td>\n",
              "      <td>64.000000</td>\n",
              "      <td>22.000000</td>\n",
              "      <td>76.250000</td>\n",
              "      <td>27.500000</td>\n",
              "      <td>0.243750</td>\n",
              "    </tr>\n",
              "    <tr>\n",
              "      <th>50%</th>\n",
              "      <td>117.000000</td>\n",
              "      <td>72.000000</td>\n",
              "      <td>29.000000</td>\n",
              "      <td>125.000000</td>\n",
              "      <td>32.300000</td>\n",
              "      <td>0.372500</td>\n",
              "    </tr>\n",
              "    <tr>\n",
              "      <th>75%</th>\n",
              "      <td>141.000000</td>\n",
              "      <td>80.000000</td>\n",
              "      <td>36.000000</td>\n",
              "      <td>190.000000</td>\n",
              "      <td>36.600000</td>\n",
              "      <td>0.626250</td>\n",
              "    </tr>\n",
              "    <tr>\n",
              "      <th>max</th>\n",
              "      <td>199.000000</td>\n",
              "      <td>122.000000</td>\n",
              "      <td>99.000000</td>\n",
              "      <td>846.000000</td>\n",
              "      <td>67.100000</td>\n",
              "      <td>2.420000</td>\n",
              "    </tr>\n",
              "  </tbody>\n",
              "</table>\n",
              "</div>"
            ],
            "text/plain": [
              "          Glucose  BloodPressure  ...         BMI  DiabetesPedigreeFunction\n",
              "count  763.000000     733.000000  ...  757.000000                768.000000\n",
              "mean   121.686763      72.405184  ...   32.457464                  0.471876\n",
              "std     30.535641      12.382158  ...    6.924988                  0.331329\n",
              "min     44.000000      24.000000  ...   18.200000                  0.078000\n",
              "25%     99.000000      64.000000  ...   27.500000                  0.243750\n",
              "50%    117.000000      72.000000  ...   32.300000                  0.372500\n",
              "75%    141.000000      80.000000  ...   36.600000                  0.626250\n",
              "max    199.000000     122.000000  ...   67.100000                  2.420000\n",
              "\n",
              "[8 rows x 6 columns]"
            ]
          },
          "metadata": {
            "tags": []
          },
          "execution_count": 6
        }
      ]
    },
    {
      "cell_type": "code",
      "metadata": {
        "colab": {
          "base_uri": "https://localhost:8080/"
        },
        "id": "kLb7w0vI0p3w",
        "outputId": "8cd2c8e5-8a73-45fc-d497-fa517c15cb3f"
      },
      "source": [
        "#imputer to impute mean value for each feature\n",
        "imputer=SimpleImputer(strategy=\"mean\")\n",
        "imputer.fit(x)\n",
        "print(imputer.statistics_)\n",
        "\n",
        "#transforming feature data\n",
        "X=imputer.transform(x)\n",
        "x_transf=pd.DataFrame(X,columns=x.columns,index=x.index)\n",
        "x_transf[\"Pregnancies\"]=preg\n",
        "x_transf[\"Age\"]=age\n",
        "\n",
        "#scaling values using minmaxscaler in range 0 to 1\n",
        "scale=MinMaxScaler()\n",
        "x_transf[x_transf.columns] = pd.DataFrame(scale.fit_transform(x_transf[x_transf.columns].values), columns=x_transf.columns, index=x_transf.index)\n",
        "x_transf.head()\n",
        "\n",
        "#creating a copy to obtain correlation after transformation\n",
        "x_temp=x_transf.copy()\n",
        "x_temp[\"Outcome\"]=y\n",
        "x_temp.head()\n",
        "corr_matrix=x_temp.corr()\n",
        "print(corr_matrix[\"Outcome\"].sort_values(ascending=False))"
      ],
      "execution_count": null,
      "outputs": [
        {
          "output_type": "stream",
          "text": [
            "[121.68676278  72.40518417  29.15341959 155.54822335  32.45746367\n",
            "   0.4718763 ]\n",
            "Outcome                     1.000000\n",
            "Glucose                     0.492928\n",
            "BMI                         0.311924\n",
            "Age                         0.238356\n",
            "Pregnancies                 0.221898\n",
            "SkinThickness               0.215299\n",
            "Insulin                     0.214411\n",
            "DiabetesPedigreeFunction    0.173844\n",
            "BloodPressure               0.166074\n",
            "Name: Outcome, dtype: float64\n"
          ],
          "name": "stdout"
        }
      ]
    },
    {
      "cell_type": "code",
      "metadata": {
        "colab": {
          "base_uri": "https://localhost:8080/"
        },
        "id": "20XnWmpi8d19",
        "outputId": "c6ecd171-057c-4f1a-e73b-69cdddaad807"
      },
      "source": [
        "#split data into training and testing set, maintaining same ratio of outcome\n",
        "x_train,x_test=train_test_split(x_transf,test_size=size_of_test_set,random_state=42,shuffle=shuffle)\n",
        "y_train,y_test=train_test_split(y,test_size=size_of_test_set,random_state=42,shuffle=shuffle)\n",
        "\n",
        "# len(y_train)\n",
        "# len(y_test)\n",
        "# x_train.head()\n",
        "# y_train.head()\n",
        "\n",
        "#outcome has same ratio for 1's and 0's\n",
        "print(y_train.value_counts())\n",
        "print(y_test.value_counts())"
      ],
      "execution_count": null,
      "outputs": [
        {
          "output_type": "stream",
          "text": [
            "0    401\n",
            "1    213\n",
            "Name: Outcome, dtype: int64\n",
            "0    99\n",
            "1    55\n",
            "Name: Outcome, dtype: int64\n"
          ],
          "name": "stdout"
        }
      ]
    },
    {
      "cell_type": "code",
      "metadata": {
        "id": "vMAcCnT_AcrD"
      },
      "source": [
        "#callback function to stop training once recall reaches 88%\n",
        "class myCallback(tf.keras.callbacks.Callback):\n",
        "  def on_epoch_end(self,epochs,logs={}):\n",
        "    if logs.get(\"recall\")>=0.88 and logs.get(\"auc\")>=0.80 and epochs>=100:\n",
        "      print(\"Reached recall of 88%\")\n",
        "      self.model.stop_training=True\n",
        "callback=myCallback()"
      ],
      "execution_count": null,
      "outputs": []
    },
    {
      "cell_type": "code",
      "metadata": {
        "colab": {
          "base_uri": "https://localhost:8080/"
        },
        "id": "T9DjHho4-gkK",
        "outputId": "1b5a1f71-9e02-439e-88ac-0f5e6dd687eb"
      },
      "source": [
        "#metrics for measuring accuracy\n",
        "my_metrics = [\n",
        "      tf.keras.metrics.BinaryAccuracy(name='accuracy',threshold=classification_threshold),\n",
        "      tf.keras.metrics.Precision(name='precision',thresholds=classification_threshold),\n",
        "      tf.keras.metrics.Recall(name=\"recall\",thresholds=classification_threshold),\n",
        "      tf.keras.metrics.AUC(num_thresholds=150, name='auc'),\n",
        "]\n",
        "\n",
        "#creating model\n",
        "model=tf.keras.Sequential([\n",
        "                           tf.keras.layers.Dense(16,input_shape=[len(x_train.keys())],activation=\"relu\"),\n",
        "                           tf.keras.layers.Dropout(dropout_val),\n",
        "                           tf.keras.layers.Dense(16,activation=\"relu\"),                          \n",
        "                           tf.keras.layers.Dense(8,activation=\"relu\"),\n",
        "                           tf.keras.layers.Dense(1,activation=\"sigmoid\")\n",
        "])\n",
        "\n",
        "#compiling the model\n",
        "model.compile(optimizer=tf.keras.optimizers.RMSprop(learning_rate=lr,momentum=momentum_val),                                                   \n",
        "                loss=tf.keras.losses.BinaryCrossentropy(),\n",
        "                metrics=my_metrics)\n",
        "\n",
        "#summary of layers involved in model created\n",
        "model.summary()\n",
        "\n",
        "#training the model\n",
        "history = model.fit(x=x_train, y=y_train, batch_size=batch_size,epochs=epochs, shuffle=shuffle,callbacks=[callback])\n",
        "\n",
        "#save model to load it later\n",
        "model.save(\"my_model.h5\")\n"
      ],
      "execution_count": null,
      "outputs": [
        {
          "output_type": "stream",
          "text": [
            "Model: \"sequential_5\"\n",
            "_________________________________________________________________\n",
            "Layer (type)                 Output Shape              Param #   \n",
            "=================================================================\n",
            "dense_20 (Dense)             (None, 16)                144       \n",
            "_________________________________________________________________\n",
            "dropout_5 (Dropout)          (None, 16)                0         \n",
            "_________________________________________________________________\n",
            "dense_21 (Dense)             (None, 16)                272       \n",
            "_________________________________________________________________\n",
            "dense_22 (Dense)             (None, 8)                 136       \n",
            "_________________________________________________________________\n",
            "dense_23 (Dense)             (None, 1)                 9         \n",
            "=================================================================\n",
            "Total params: 561\n",
            "Trainable params: 561\n",
            "Non-trainable params: 0\n",
            "_________________________________________________________________\n",
            "Epoch 1/500\n",
            "25/25 [==============================] - 1s 2ms/step - loss: 0.6616 - accuracy: 0.3811 - precision: 0.3306 - recall: 0.7653 - auc: 0.4847\n",
            "Epoch 2/500\n",
            "25/25 [==============================] - 0s 2ms/step - loss: 0.6371 - accuracy: 0.4853 - precision: 0.3728 - recall: 0.7089 - auc: 0.5778\n",
            "Epoch 3/500\n",
            "25/25 [==============================] - 0s 2ms/step - loss: 0.6001 - accuracy: 0.6124 - precision: 0.4631 - recall: 0.7371 - auc: 0.7077\n",
            "Epoch 4/500\n",
            "25/25 [==============================] - 0s 2ms/step - loss: 0.5746 - accuracy: 0.6857 - precision: 0.5368 - recall: 0.6854 - auc: 0.7423\n",
            "Epoch 5/500\n",
            "25/25 [==============================] - 0s 2ms/step - loss: 0.5562 - accuracy: 0.6906 - precision: 0.5458 - recall: 0.6432 - auc: 0.7533\n",
            "Epoch 6/500\n",
            "25/25 [==============================] - 0s 2ms/step - loss: 0.5403 - accuracy: 0.6889 - precision: 0.5385 - recall: 0.7230 - auc: 0.7671\n",
            "Epoch 7/500\n",
            "25/25 [==============================] - 0s 2ms/step - loss: 0.5072 - accuracy: 0.7199 - precision: 0.5695 - recall: 0.7887 - auc: 0.8072\n",
            "Epoch 8/500\n",
            "25/25 [==============================] - 0s 2ms/step - loss: 0.5013 - accuracy: 0.7492 - precision: 0.6081 - recall: 0.7793 - auc: 0.8096\n",
            "Epoch 9/500\n",
            "25/25 [==============================] - 0s 2ms/step - loss: 0.5130 - accuracy: 0.7166 - precision: 0.5720 - recall: 0.7277 - auc: 0.7984\n",
            "Epoch 10/500\n",
            "25/25 [==============================] - 0s 2ms/step - loss: 0.4887 - accuracy: 0.7476 - precision: 0.6074 - recall: 0.7700 - auc: 0.8208\n",
            "Epoch 11/500\n",
            "25/25 [==============================] - 0s 2ms/step - loss: 0.4771 - accuracy: 0.7606 - precision: 0.6196 - recall: 0.8028 - auc: 0.8277\n",
            "Epoch 12/500\n",
            "25/25 [==============================] - 0s 2ms/step - loss: 0.4929 - accuracy: 0.7215 - precision: 0.5724 - recall: 0.7793 - auc: 0.8139\n",
            "Epoch 13/500\n",
            "25/25 [==============================] - 0s 2ms/step - loss: 0.4740 - accuracy: 0.7687 - precision: 0.6392 - recall: 0.7653 - auc: 0.8355\n",
            "Epoch 14/500\n",
            "25/25 [==============================] - 0s 2ms/step - loss: 0.4889 - accuracy: 0.7182 - precision: 0.5629 - recall: 0.8404 - auc: 0.8192\n",
            "Epoch 15/500\n",
            "25/25 [==============================] - 0s 2ms/step - loss: 0.4720 - accuracy: 0.7606 - precision: 0.6162 - recall: 0.8216 - auc: 0.8318\n",
            "Epoch 16/500\n",
            "25/25 [==============================] - 0s 2ms/step - loss: 0.4879 - accuracy: 0.7378 - precision: 0.5922 - recall: 0.7840 - auc: 0.8186\n",
            "Epoch 17/500\n",
            "25/25 [==============================] - 0s 2ms/step - loss: 0.4652 - accuracy: 0.7476 - precision: 0.5967 - recall: 0.8404 - auc: 0.8385\n",
            "Epoch 18/500\n",
            "25/25 [==============================] - 0s 2ms/step - loss: 0.4786 - accuracy: 0.7296 - precision: 0.5830 - recall: 0.7746 - auc: 0.8290\n",
            "Epoch 19/500\n",
            "25/25 [==============================] - 0s 2ms/step - loss: 0.4780 - accuracy: 0.7622 - precision: 0.6209 - recall: 0.8075 - auc: 0.8262\n",
            "Epoch 20/500\n",
            "25/25 [==============================] - 0s 2ms/step - loss: 0.4736 - accuracy: 0.7345 - precision: 0.5862 - recall: 0.7981 - auc: 0.8301\n",
            "Epoch 21/500\n",
            "25/25 [==============================] - 0s 2ms/step - loss: 0.4637 - accuracy: 0.7410 - precision: 0.5964 - recall: 0.7840 - auc: 0.8415\n",
            "Epoch 22/500\n",
            "25/25 [==============================] - 0s 2ms/step - loss: 0.4680 - accuracy: 0.7427 - precision: 0.5932 - recall: 0.8216 - auc: 0.8371\n",
            "Epoch 23/500\n",
            "25/25 [==============================] - 0s 2ms/step - loss: 0.4745 - accuracy: 0.7280 - precision: 0.5772 - recall: 0.8075 - auc: 0.8279\n",
            "Epoch 24/500\n",
            "25/25 [==============================] - 0s 2ms/step - loss: 0.4687 - accuracy: 0.7459 - precision: 0.6044 - recall: 0.7746 - auc: 0.8368\n",
            "Epoch 25/500\n",
            "25/25 [==============================] - 0s 2ms/step - loss: 0.4684 - accuracy: 0.7362 - precision: 0.5864 - recall: 0.8122 - auc: 0.8337\n",
            "Epoch 26/500\n",
            "25/25 [==============================] - 0s 3ms/step - loss: 0.4652 - accuracy: 0.7378 - precision: 0.5833 - recall: 0.8545 - auc: 0.8396\n",
            "Epoch 27/500\n",
            "25/25 [==============================] - 0s 2ms/step - loss: 0.4689 - accuracy: 0.7573 - precision: 0.6185 - recall: 0.7840 - auc: 0.8375\n",
            "Epoch 28/500\n",
            "25/25 [==============================] - 0s 2ms/step - loss: 0.4597 - accuracy: 0.7541 - precision: 0.6047 - recall: 0.8404 - auc: 0.8439\n",
            "Epoch 29/500\n",
            "25/25 [==============================] - 0s 2ms/step - loss: 0.4719 - accuracy: 0.7524 - precision: 0.6109 - recall: 0.7887 - auc: 0.8319\n",
            "Epoch 30/500\n",
            "25/25 [==============================] - 0s 2ms/step - loss: 0.4737 - accuracy: 0.7296 - precision: 0.5776 - recall: 0.8216 - auc: 0.8386\n",
            "Epoch 31/500\n",
            "25/25 [==============================] - 0s 2ms/step - loss: 0.4678 - accuracy: 0.7410 - precision: 0.5978 - recall: 0.7746 - auc: 0.8391\n",
            "Epoch 32/500\n",
            "25/25 [==============================] - 0s 2ms/step - loss: 0.4649 - accuracy: 0.7541 - precision: 0.6076 - recall: 0.8216 - auc: 0.8384\n",
            "Epoch 33/500\n",
            "25/25 [==============================] - 0s 2ms/step - loss: 0.4739 - accuracy: 0.7443 - precision: 0.5952 - recall: 0.8216 - auc: 0.8312\n",
            "Epoch 34/500\n",
            "25/25 [==============================] - 0s 2ms/step - loss: 0.4630 - accuracy: 0.7394 - precision: 0.5923 - recall: 0.7981 - auc: 0.8403\n",
            "Epoch 35/500\n",
            "25/25 [==============================] - 0s 2ms/step - loss: 0.4732 - accuracy: 0.7427 - precision: 0.5958 - recall: 0.8028 - auc: 0.8323\n",
            "Epoch 36/500\n",
            "25/25 [==============================] - 0s 2ms/step - loss: 0.4652 - accuracy: 0.7248 - precision: 0.5710 - recall: 0.8310 - auc: 0.8401\n",
            "Epoch 37/500\n",
            "25/25 [==============================] - 0s 2ms/step - loss: 0.4565 - accuracy: 0.7590 - precision: 0.6173 - recall: 0.8028 - auc: 0.8453\n",
            "Epoch 38/500\n",
            "25/25 [==============================] - 0s 2ms/step - loss: 0.4623 - accuracy: 0.7508 - precision: 0.6007 - recall: 0.8404 - auc: 0.8418\n",
            "Epoch 39/500\n",
            "25/25 [==============================] - 0s 2ms/step - loss: 0.4655 - accuracy: 0.7590 - precision: 0.6102 - recall: 0.8451 - auc: 0.8387\n",
            "Epoch 40/500\n",
            "25/25 [==============================] - 0s 2ms/step - loss: 0.4490 - accuracy: 0.7606 - precision: 0.6107 - recall: 0.8545 - auc: 0.8519\n",
            "Epoch 41/500\n",
            "25/25 [==============================] - 0s 2ms/step - loss: 0.4552 - accuracy: 0.7508 - precision: 0.6014 - recall: 0.8357 - auc: 0.8468\n",
            "Epoch 42/500\n",
            "25/25 [==============================] - 0s 2ms/step - loss: 0.4587 - accuracy: 0.7443 - precision: 0.5959 - recall: 0.8169 - auc: 0.8431\n",
            "Epoch 43/500\n",
            "25/25 [==============================] - 0s 2ms/step - loss: 0.4631 - accuracy: 0.7443 - precision: 0.5933 - recall: 0.8357 - auc: 0.8364\n",
            "Epoch 44/500\n",
            "25/25 [==============================] - 0s 3ms/step - loss: 0.4670 - accuracy: 0.7410 - precision: 0.5938 - recall: 0.8028 - auc: 0.8397\n",
            "Epoch 45/500\n",
            "25/25 [==============================] - 0s 2ms/step - loss: 0.4461 - accuracy: 0.7557 - precision: 0.6113 - recall: 0.8122 - auc: 0.8537\n",
            "Epoch 46/500\n",
            "25/25 [==============================] - 0s 3ms/step - loss: 0.4577 - accuracy: 0.7378 - precision: 0.5897 - recall: 0.8028 - auc: 0.8432\n",
            "Epoch 47/500\n",
            "25/25 [==============================] - 0s 2ms/step - loss: 0.4617 - accuracy: 0.7280 - precision: 0.5799 - recall: 0.7840 - auc: 0.8400\n",
            "Epoch 48/500\n",
            "25/25 [==============================] - 0s 2ms/step - loss: 0.4487 - accuracy: 0.7492 - precision: 0.6014 - recall: 0.8216 - auc: 0.8483\n",
            "Epoch 49/500\n",
            "25/25 [==============================] - 0s 2ms/step - loss: 0.4633 - accuracy: 0.7280 - precision: 0.5742 - recall: 0.8357 - auc: 0.8373\n",
            "Epoch 50/500\n",
            "25/25 [==============================] - 0s 2ms/step - loss: 0.4362 - accuracy: 0.7704 - precision: 0.6286 - recall: 0.8263 - auc: 0.8618\n",
            "Epoch 51/500\n",
            "25/25 [==============================] - 0s 2ms/step - loss: 0.4479 - accuracy: 0.7655 - precision: 0.6194 - recall: 0.8404 - auc: 0.8530\n",
            "Epoch 52/500\n",
            "25/25 [==============================] - 0s 2ms/step - loss: 0.4452 - accuracy: 0.7394 - precision: 0.5917 - recall: 0.8028 - auc: 0.8524\n",
            "Epoch 53/500\n",
            "25/25 [==============================] - 0s 2ms/step - loss: 0.4395 - accuracy: 0.7313 - precision: 0.5769 - recall: 0.8451 - auc: 0.8556\n",
            "Epoch 54/500\n",
            "25/25 [==============================] - 0s 2ms/step - loss: 0.4563 - accuracy: 0.7394 - precision: 0.5892 - recall: 0.8216 - auc: 0.8453\n",
            "Epoch 55/500\n",
            "25/25 [==============================] - 0s 2ms/step - loss: 0.4553 - accuracy: 0.7492 - precision: 0.6035 - recall: 0.8075 - auc: 0.8478\n",
            "Epoch 56/500\n",
            "25/25 [==============================] - 0s 2ms/step - loss: 0.4490 - accuracy: 0.7427 - precision: 0.5914 - recall: 0.8357 - auc: 0.8525\n",
            "Epoch 57/500\n",
            "25/25 [==============================] - 0s 2ms/step - loss: 0.4514 - accuracy: 0.7524 - precision: 0.6093 - recall: 0.7981 - auc: 0.8488\n",
            "Epoch 58/500\n",
            "25/25 [==============================] - 0s 2ms/step - loss: 0.4548 - accuracy: 0.7345 - precision: 0.5833 - recall: 0.8216 - auc: 0.8425\n",
            "Epoch 59/500\n",
            "25/25 [==============================] - 0s 2ms/step - loss: 0.4380 - accuracy: 0.7443 - precision: 0.5959 - recall: 0.8169 - auc: 0.8608\n",
            "Epoch 60/500\n",
            "25/25 [==============================] - 0s 2ms/step - loss: 0.4414 - accuracy: 0.7573 - precision: 0.6053 - recall: 0.8638 - auc: 0.8555\n",
            "Epoch 61/500\n",
            "25/25 [==============================] - 0s 2ms/step - loss: 0.4351 - accuracy: 0.7785 - precision: 0.6390 - recall: 0.8310 - auc: 0.8636\n",
            "Epoch 62/500\n",
            "25/25 [==============================] - 0s 2ms/step - loss: 0.4546 - accuracy: 0.7476 - precision: 0.5993 - recall: 0.8216 - auc: 0.8497\n",
            "Epoch 63/500\n",
            "25/25 [==============================] - 0s 2ms/step - loss: 0.4436 - accuracy: 0.7671 - precision: 0.6296 - recall: 0.7981 - auc: 0.8554\n",
            "Epoch 64/500\n",
            "25/25 [==============================] - 0s 2ms/step - loss: 0.4443 - accuracy: 0.7508 - precision: 0.6049 - recall: 0.8122 - auc: 0.8552\n",
            "Epoch 65/500\n",
            "25/25 [==============================] - 0s 2ms/step - loss: 0.4398 - accuracy: 0.7573 - precision: 0.6127 - recall: 0.8169 - auc: 0.8580\n",
            "Epoch 66/500\n",
            "25/25 [==============================] - 0s 2ms/step - loss: 0.4429 - accuracy: 0.7443 - precision: 0.5915 - recall: 0.8498 - auc: 0.8586\n",
            "Epoch 67/500\n",
            "25/25 [==============================] - 0s 2ms/step - loss: 0.4421 - accuracy: 0.7459 - precision: 0.5966 - recall: 0.8263 - auc: 0.8530\n",
            "Epoch 68/500\n",
            "25/25 [==============================] - 0s 2ms/step - loss: 0.4395 - accuracy: 0.7590 - precision: 0.6182 - recall: 0.7981 - auc: 0.8594\n",
            "Epoch 69/500\n",
            "25/25 [==============================] - 0s 2ms/step - loss: 0.4394 - accuracy: 0.7508 - precision: 0.6056 - recall: 0.8075 - auc: 0.8581\n",
            "Epoch 70/500\n",
            "25/25 [==============================] - 0s 2ms/step - loss: 0.4352 - accuracy: 0.7655 - precision: 0.6177 - recall: 0.8498 - auc: 0.8598\n",
            "Epoch 71/500\n",
            "25/25 [==============================] - 0s 2ms/step - loss: 0.4446 - accuracy: 0.7378 - precision: 0.5818 - recall: 0.8685 - auc: 0.8545\n",
            "Epoch 72/500\n",
            "25/25 [==============================] - 0s 2ms/step - loss: 0.4398 - accuracy: 0.7655 - precision: 0.6245 - recall: 0.8122 - auc: 0.8582\n",
            "Epoch 73/500\n",
            "25/25 [==============================] - 0s 2ms/step - loss: 0.4538 - accuracy: 0.7622 - precision: 0.6218 - recall: 0.8028 - auc: 0.8501\n",
            "Epoch 74/500\n",
            "25/25 [==============================] - 0s 2ms/step - loss: 0.4257 - accuracy: 0.7606 - precision: 0.6115 - recall: 0.8498 - auc: 0.8650\n",
            "Epoch 75/500\n",
            "25/25 [==============================] - 0s 2ms/step - loss: 0.4386 - accuracy: 0.7541 - precision: 0.6026 - recall: 0.8545 - auc: 0.8588\n",
            "Epoch 76/500\n",
            "25/25 [==============================] - 0s 2ms/step - loss: 0.4417 - accuracy: 0.7476 - precision: 0.6007 - recall: 0.8122 - auc: 0.8535\n",
            "Epoch 77/500\n",
            "25/25 [==============================] - 0s 3ms/step - loss: 0.4229 - accuracy: 0.7622 - precision: 0.6113 - recall: 0.8638 - auc: 0.8717\n",
            "Epoch 78/500\n",
            "25/25 [==============================] - 0s 2ms/step - loss: 0.4382 - accuracy: 0.7459 - precision: 0.5947 - recall: 0.8404 - auc: 0.8571\n",
            "Epoch 79/500\n",
            "25/25 [==============================] - 0s 2ms/step - loss: 0.4288 - accuracy: 0.7866 - precision: 0.6507 - recall: 0.8310 - auc: 0.8662\n",
            "Epoch 80/500\n",
            "25/25 [==============================] - 0s 2ms/step - loss: 0.4186 - accuracy: 0.7573 - precision: 0.6067 - recall: 0.8545 - auc: 0.8687\n",
            "Epoch 81/500\n",
            "25/25 [==============================] - 0s 2ms/step - loss: 0.4298 - accuracy: 0.7655 - precision: 0.6228 - recall: 0.8216 - auc: 0.8634\n",
            "Epoch 82/500\n",
            "25/25 [==============================] - 0s 2ms/step - loss: 0.4403 - accuracy: 0.7736 - precision: 0.6341 - recall: 0.8216 - auc: 0.8623\n",
            "Epoch 83/500\n",
            "25/25 [==============================] - 0s 2ms/step - loss: 0.4369 - accuracy: 0.7866 - precision: 0.6414 - recall: 0.8732 - auc: 0.8633\n",
            "Epoch 84/500\n",
            "25/25 [==============================] - 0s 2ms/step - loss: 0.4270 - accuracy: 0.7736 - precision: 0.6259 - recall: 0.8638 - auc: 0.8674\n",
            "Epoch 85/500\n",
            "25/25 [==============================] - 0s 2ms/step - loss: 0.4225 - accuracy: 0.7818 - precision: 0.6458 - recall: 0.8216 - auc: 0.8714\n",
            "Epoch 86/500\n",
            "25/25 [==============================] - 0s 2ms/step - loss: 0.4316 - accuracy: 0.7622 - precision: 0.6136 - recall: 0.8498 - auc: 0.8624\n",
            "Epoch 87/500\n",
            "25/25 [==============================] - 0s 2ms/step - loss: 0.4337 - accuracy: 0.7638 - precision: 0.6214 - recall: 0.8169 - auc: 0.8634\n",
            "Epoch 88/500\n",
            "25/25 [==============================] - 0s 2ms/step - loss: 0.4336 - accuracy: 0.7459 - precision: 0.5960 - recall: 0.8310 - auc: 0.8590\n",
            "Epoch 89/500\n",
            "25/25 [==============================] - 0s 2ms/step - loss: 0.4255 - accuracy: 0.7541 - precision: 0.6040 - recall: 0.8451 - auc: 0.8662\n",
            "Epoch 90/500\n",
            "25/25 [==============================] - 0s 2ms/step - loss: 0.4236 - accuracy: 0.7638 - precision: 0.6223 - recall: 0.8122 - auc: 0.8686\n",
            "Epoch 91/500\n",
            "25/25 [==============================] - 0s 2ms/step - loss: 0.4216 - accuracy: 0.7769 - precision: 0.6407 - recall: 0.8122 - auc: 0.8700\n",
            "Epoch 92/500\n",
            "25/25 [==============================] - 0s 2ms/step - loss: 0.4233 - accuracy: 0.7785 - precision: 0.6410 - recall: 0.8216 - auc: 0.8692\n",
            "Epoch 93/500\n",
            "25/25 [==============================] - 0s 2ms/step - loss: 0.4350 - accuracy: 0.7638 - precision: 0.6197 - recall: 0.8263 - auc: 0.8618\n",
            "Epoch 94/500\n",
            "25/25 [==============================] - 0s 2ms/step - loss: 0.4389 - accuracy: 0.7655 - precision: 0.6255 - recall: 0.8075 - auc: 0.8585\n",
            "Epoch 95/500\n",
            "25/25 [==============================] - 0s 2ms/step - loss: 0.4339 - accuracy: 0.7557 - precision: 0.6054 - recall: 0.8498 - auc: 0.8615\n",
            "Epoch 96/500\n",
            "25/25 [==============================] - 0s 2ms/step - loss: 0.4312 - accuracy: 0.7671 - precision: 0.6316 - recall: 0.7887 - auc: 0.8653\n",
            "Epoch 97/500\n",
            "25/25 [==============================] - 0s 2ms/step - loss: 0.4291 - accuracy: 0.7704 - precision: 0.6259 - recall: 0.8404 - auc: 0.8684\n",
            "Epoch 98/500\n",
            "25/25 [==============================] - 0s 2ms/step - loss: 0.4313 - accuracy: 0.7573 - precision: 0.6135 - recall: 0.8122 - auc: 0.8630\n",
            "Epoch 99/500\n",
            "25/25 [==============================] - 0s 2ms/step - loss: 0.4276 - accuracy: 0.7866 - precision: 0.6530 - recall: 0.8216 - auc: 0.8684\n",
            "Epoch 100/500\n",
            "25/25 [==============================] - 0s 2ms/step - loss: 0.4407 - accuracy: 0.7638 - precision: 0.6156 - recall: 0.8498 - auc: 0.8562\n",
            "Epoch 101/500\n",
            "25/25 [==============================] - 0s 2ms/step - loss: 0.4176 - accuracy: 0.7736 - precision: 0.6276 - recall: 0.8545 - auc: 0.8734\n",
            "Epoch 102/500\n",
            "25/25 [==============================] - 0s 2ms/step - loss: 0.4180 - accuracy: 0.7850 - precision: 0.6494 - recall: 0.8263 - auc: 0.8738\n",
            "Epoch 103/500\n",
            "25/25 [==============================] - 0s 2ms/step - loss: 0.4370 - accuracy: 0.7410 - precision: 0.5912 - recall: 0.8216 - auc: 0.8591\n",
            "Epoch 104/500\n",
            "25/25 [==============================] - 0s 2ms/step - loss: 0.4283 - accuracy: 0.7622 - precision: 0.6274 - recall: 0.7746 - auc: 0.8648\n",
            "Epoch 105/500\n",
            "25/25 [==============================] - 0s 2ms/step - loss: 0.4090 - accuracy: 0.7704 - precision: 0.6314 - recall: 0.8122 - auc: 0.8777\n",
            "Epoch 106/500\n",
            "25/25 [==============================] - 0s 2ms/step - loss: 0.4245 - accuracy: 0.7752 - precision: 0.6335 - recall: 0.8357 - auc: 0.8721\n",
            "Epoch 107/500\n",
            "25/25 [==============================] - 0s 3ms/step - loss: 0.4227 - accuracy: 0.7704 - precision: 0.6184 - recall: 0.8826 - auc: 0.8716\n",
            "Reached recall of 88%\n"
          ],
          "name": "stdout"
        }
      ]
    },
    {
      "cell_type": "code",
      "metadata": {
        "colab": {
          "base_uri": "https://localhost:8080/"
        },
        "id": "ETy2oi6OBIkK",
        "outputId": "150ef865-ee9b-4287-bbda-e8cf54672322"
      },
      "source": [
        "#evaluate model against unseen data i.e. test set\n",
        "model.evaluate(x = x_test, y = y_test, batch_size=batch_size)\n",
        "\n"
      ],
      "execution_count": null,
      "outputs": [
        {
          "output_type": "stream",
          "text": [
            "7/7 [==============================] - 0s 3ms/step - loss: 0.5251 - accuracy: 0.7338 - precision: 0.5921 - recall: 0.8182 - auc: 0.8239\n"
          ],
          "name": "stdout"
        },
        {
          "output_type": "execute_result",
          "data": {
            "text/plain": [
              "[0.5251131653785706,\n",
              " 0.7337662577629089,\n",
              " 0.5921052694320679,\n",
              " 0.8181818127632141,\n",
              " 0.8238751292228699]"
            ]
          },
          "metadata": {
            "tags": []
          },
          "execution_count": 53
        }
      ]
    },
    {
      "cell_type": "code",
      "metadata": {
        "colab": {
          "base_uri": "https://localhost:8080/",
          "height": 1000
        },
        "id": "48WOaXtPC1Sv",
        "outputId": "b7864266-afc8-404a-828e-ef8b1a033644"
      },
      "source": [
        "epochs = history.epoch\n",
        "hist = pd.DataFrame(history.history)\n",
        "\n",
        "def plot_curve(epochs, hist, list_of_metrics,name_of_plot,legend_pos):\n",
        "  plt.figure()\n",
        "  plt.xlabel(\"Epoch\")\n",
        "  plt.ylabel(\"Value\")\n",
        "  plt.title(name_of_plot)\n",
        "\n",
        "  plt.tick_params(left=False,bottom=False)\n",
        "  for pos in ['right', 'top']:\n",
        "      plt.gca().spines[pos].set_visible(False)\n",
        "  for m in list_of_metrics:\n",
        "    x = hist[m]\n",
        "    plt.plot(epochs[1:], x[1:], label=m)\n",
        "  plt.legend(loc=legend_pos)\n",
        "\n",
        "#graph for accuracy, precision and recall, recall being important parameter for diabetes detection\n",
        "list_of_metrics_to_plot = ['accuracy', \"precision\", \"recall\"] \n",
        "plot_curve(epochs, hist, list_of_metrics_to_plot,\"Accuracy, precision and recall\",\"lower right\")\n",
        "\n",
        "#auc of roc\n",
        "list_of_metrics_to_plot = ['auc'] \n",
        "plot_curve(epochs,hist,list_of_metrics_to_plot,\"AUC\",\"lower right\")\n",
        "\n",
        "list_of_metrics_to_plot=[\"accuracy\"]\n",
        "plot_curve(epochs,hist,list_of_metrics_to_plot,\"Models's accuracy\",\"lower right\")\n",
        "\n",
        "list_of_metrics_to_plot=[\"loss\"]\n",
        "plot_curve(epochs,hist,list_of_metrics_to_plot,\"Model's loss\",\"upper right\")\n"
      ],
      "execution_count": null,
      "outputs": [
        {
          "output_type": "display_data",
          "data": {
            "image/png": "[encoded data removed]",
            "text/plain": [
              "<Figure size 432x288 with 1 Axes>"
            ]
          },
          "metadata": {
            "tags": [],
            "needs_background": "light"
          }
        },
        {
          "output_type": "display_data",
          "data": {
            "image/png": "[encoded data removed]",
            "text/plain": [
              "<Figure size 432x288 with 1 Axes>"
            ]
          },
          "metadata": {
            "tags": [],
            "needs_background": "light"
          }
        },
        {
          "output_type": "display_data",
          "data": {
            "image/png": "[encoded data removed]",
            "text/plain": [
              "<Figure size 432x288 with 1 Axes>"
            ]
          },
          "metadata": {
            "tags": [],
            "needs_background": "light"
          }
        },
        {
          "output_type": "display_data",
          "data": {
            "image/png": "[encoded data removed]",
            "text/plain": [
              "<Figure size 432x288 with 1 Axes>"
            ]
          },
          "metadata": {
            "tags": [],
            "needs_background": "light"
          }
        }
      ]
    },
    {
      "cell_type": "code",
      "metadata": {
        "colab": {
          "base_uri": "https://localhost:8080/"
        },
        "id": "v7FbXTKdi02N",
        "outputId": "e4f125a4-be35-44ac-a396-59c6cfcf882c"
      },
      "source": [
        "#the model saved before can be now directly loaded witout having to train it again\n",
        "new_model=keras.models.load_model(\"my_model.h5\")\n",
        "new_model.summary()\n",
        "acc_param=new_model.evaluate(x_test,y_test)\n",
        "acc_param"
      ],
      "execution_count": null,
      "outputs": [
        {
          "output_type": "stream",
          "text": [
            "Model: \"sequential_77\"\n",
            "_________________________________________________________________\n",
            "Layer (type)                 Output Shape              Param #   \n",
            "=================================================================\n",
            "dense_294 (Dense)            (None, 16)                144       \n",
            "_________________________________________________________________\n",
            "dropout_63 (Dropout)         (None, 16)                0         \n",
            "_________________________________________________________________\n",
            "dense_295 (Dense)            (None, 16)                272       \n",
            "_________________________________________________________________\n",
            "dense_296 (Dense)            (None, 8)                 136       \n",
            "_________________________________________________________________\n",
            "dense_297 (Dense)            (None, 1)                 9         \n",
            "=================================================================\n",
            "Total params: 561\n",
            "Trainable params: 561\n",
            "Non-trainable params: 0\n",
            "_________________________________________________________________\n",
            "5/5 [==============================] - 0s 3ms/step - loss: 0.5681 - accuracy: 0.7403 - precision: 0.6027 - recall: 0.8000 - auc: 0.8023\n"
          ],
          "name": "stdout"
        },
        {
          "output_type": "execute_result",
          "data": {
            "text/plain": [
              "[0.5680758357048035,\n",
              " 0.7402597665786743,\n",
              " 0.6027397513389587,\n",
              " 0.800000011920929,\n",
              " 0.8022956848144531]"
            ]
          },
          "metadata": {
            "tags": []
          },
          "execution_count": 450
        }
      ]
    },
    {
      "cell_type": "code",
      "metadata": {
        "colab": {
          "base_uri": "https://localhost:8080/"
        },
        "id": "MugqR1vzRws1",
        "outputId": "994f9e0b-da34-48a6-f803-0b130618ba7d"
      },
      "source": [
        "#sgd\n",
        "sgd_clf = SGDClassifier(max_iter=1000, tol=1e-3, random_state=42)\n",
        "sgd_clf.fit(x_train, y_train)\n",
        "\n",
        "y_test_pred=sgd_clf.predict(x_test)\n",
        "print(\"Testing accuracy for sgd: \"+str(accuracy_score(y_test, y_test_pred)))\n",
        "\n",
        "cross_val_score(sgd_clf, x_train, y_train, cv=3, scoring=\"accuracy\")\n",
        "y_train_pred = cross_val_predict(sgd_clf, x_train, y_train, cv=3)\n",
        "confusion_matrix(y_train, y_train_pred)\n",
        "print(\"Training precision for sgd: \"+str(precision_score(y_train, y_train_pred)))\n",
        "print(\"Training recall for sgd: \"+str(recall_score(y_train, y_train_pred)))\n",
        "\n",
        "cross_val_score(sgd_clf, x_test, y_test, cv=3, scoring=\"accuracy\")\n",
        "y_test_pred = cross_val_predict(sgd_clf, x_test, y_test, cv=3)\n",
        "confusion_matrix(y_test, y_test_pred)\n",
        "print(\"Testing precision for sgd: \"+str(precision_score(y_test, y_test_pred)))\n",
        "print(\"Testing recall for sgd: \"+str(recall_score(y_test, y_test_pred)))\n",
        "\n",
        "y_scores = cross_val_predict(sgd_clf, x_train, y_train, cv=3,method=\"decision_function\")\n",
        "print(\"Training auc for sgd: \"+str(roc_auc_score(y_train, y_scores)))\n",
        "\n",
        "y_scores = cross_val_predict(sgd_clf, x_test, y_test, cv=3,method=\"decision_function\")\n",
        "print(\"Testing auc for sgd: \"+str(roc_auc_score(y_test, y_scores)))\n",
        "\n",
        "\n",
        "\n",
        "#knn\n",
        "knn_clf = KNeighborsClassifier(weights='distance', n_neighbors=4)\n",
        "knn_clf.fit(x_train, y_train)\n",
        "\n",
        "y_test_pred=knn_clf.predict(x_test)\n",
        "print(\"Testing accuracy for knn: \"+str(accuracy_score(y_test, y_test_pred)))\n",
        "\n",
        "cross_val_score(knn_clf, x_train, y_train, cv=3, scoring=\"accuracy\")\n",
        "y_train_pred = cross_val_predict(knn_clf, x_train, y_train, cv=3)\n",
        "confusion_matrix(y_train, y_train_pred)\n",
        "print(\"Training precision for knn: \"+str(precision_score(y_train, y_train_pred)))\n",
        "print(\"Training recall for knn: \"+str(recall_score(y_train, y_train_pred)))\n",
        "\n",
        "cross_val_score(knn_clf, x_test, y_test, cv=3, scoring=\"accuracy\")\n",
        "y_test_pred = cross_val_predict(knn_clf, x_test, y_test, cv=3)\n",
        "confusion_matrix(y_test, y_test_pred)\n",
        "print(\"Testing precision for knn: \"+str(precision_score(y_test, y_test_pred)))\n",
        "print(\"Testing recall for knn: \"+str(recall_score(y_test, y_test_pred)))\n",
        "\n",
        "y_scores = cross_val_predict(knn_clf, x_train, y_train, cv=3)\n",
        "print(\"Training auc for knn: \"+str(roc_auc_score(y_train, y_scores)))\n",
        "\n",
        "y_scores = cross_val_predict(knn_clf, x_test, y_test, cv=3)\n",
        "print(\"Testing auc for knn: \"+str(roc_auc_score(y_test, y_scores)))\n"
      ],
      "execution_count": null,
      "outputs": [
        {
          "output_type": "stream",
          "text": [
            "Testing accuracy for sgd: 0.6948051948051948\n",
            "Training precision for sgd: 0.5991379310344828\n",
            "Training recall for sgd: 0.6525821596244131\n",
            "Testing precision for sgd: 0.6197183098591549\n",
            "Testing recall for sgd: 0.8\n",
            "Training auc for sgd: 0.7994099258895018\n",
            "Testing auc for sgd: 0.8510560146923783\n",
            "Testing accuracy for knn: 0.7142857142857143\n",
            "Training precision for knn: 0.6135265700483091\n",
            "Training recall for knn: 0.596244131455399\n",
            "Testing precision for knn: 0.6981132075471698\n",
            "Testing recall for knn: 0.6727272727272727\n",
            "Training auc for knn: 0.698371442286303\n",
            "Testing auc for knn: 0.7555555555555555\n"
          ],
          "name": "stdout"
        }
      ]
    },
    {
      "cell_type": "code",
      "metadata": {
        "id": "P16t9Y1d819d"
      },
      "source": [
        ""
      ],
      "execution_count": null,
      "outputs": []
    }
  ]
}